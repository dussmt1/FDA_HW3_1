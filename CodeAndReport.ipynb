{
 "cells": [
  {
   "cell_type": "code",
   "execution_count": 1,
   "metadata": {},
   "outputs": [],
   "source": [
    "import pandas as pd\n",
    "from sklearn.linear_model import LogisticRegression\n",
    "from sklearn.neural_network import MLPClassifier, MLPRegressor\n",
    "from sklearn.naive_bayes import GaussianNB"
   ]
  },
  {
   "cell_type": "code",
   "execution_count": 2,
   "metadata": {},
   "outputs": [
    {
     "name": "stdout",
     "output_type": "stream",
     "text": [
      "             Date  Open Price  Close Price  High Price  Low Price      Volume\n",
      "0     02-Jan-2009      902.99       931.80      934.73     899.35  4048270080\n",
      "1     05-Jan-2009      929.17       927.45      936.63     919.53  5413910016\n",
      "2     06-Jan-2009      931.17       934.70      943.85     927.28  5392620032\n",
      "3     07-Jan-2009      927.45       906.65      927.45     902.37  4704940032\n",
      "4     08-Jan-2009      905.73       909.73      910.00     896.81  4991549952\n",
      "...           ...         ...          ...         ...        ...         ...\n",
      "2259  22-Dec-2017     2684.22      2683.34     2685.35    2678.13  1383888512\n",
      "2260  26-Dec-2017     2679.09      2680.50     2682.74    2677.96  1103808384\n",
      "2261  27-Dec-2017     2682.10      2682.62     2685.64    2678.91  1149108352\n",
      "2262  28-Dec-2017     2686.10      2687.54     2687.66    2682.69  1126089856\n",
      "2263  29-Dec-2017     2689.15      2673.61     2692.12    2673.61  1332374016\n",
      "\n",
      "[2264 rows x 6 columns]\n"
     ]
    }
   ],
   "source": [
    "train_raw = pd.read_csv('train.csv')\n",
    "test_raw = pd.read_csv('test.csv')\n",
    "\n",
    "print(train_raw)\n",
    "\n"
   ]
  },
  {
   "cell_type": "markdown",
   "metadata": {},
   "source": [
    "## Preprocess\n",
    "\n",
    "function preProcess  \n",
    "> input: Raw dataset, pandas dataframe  \n",
    "> output: pandas dataframe, 加上了新的欄位  \n",
    "\n",
    "##### add columns:\n",
    "\n",
    "|Column|Description|Values|\n",
    "|------|-----------|------|\n",
    "|day_grow|今日股價上升|1: 上升或不動, 0: 下降|\n",
    "|day_diff|今日股價上升量|浮點數, 可能為負|\n",
    "|diff_high|今日最高價-今日開盤價|浮點數, 應該非負|\n",
    "|diff_low|今日開盤價-今日最低價|浮點數, 應該非負|\n",
    "|high_low|今日最高價-今日最低價|浮點數, 應該非負|\n",
    "|Open_diff|今日開盤價-前日開盤價, 首日為0|浮點數, 可能為負|\n",
    "|Volume_M|交易量, 百萬單位|浮點數, 應該非負|\n",
    "\n",
    "\n",
    "### 讀取train set與test set, 並完成preprocess"
   ]
  },
  {
   "cell_type": "code",
   "execution_count": 3,
   "metadata": {},
   "outputs": [
    {
     "name": "stdout",
     "output_type": "stream",
     "text": [
      "             Date  Open Price  Close Price  High Price  Low Price      Volume  \\\n",
      "0     02-Jan-2009      902.99       931.80      934.73     899.35  4048270080   \n",
      "1     05-Jan-2009      929.17       927.45      936.63     919.53  5413910016   \n",
      "2     06-Jan-2009      931.17       934.70      943.85     927.28  5392620032   \n",
      "3     07-Jan-2009      927.45       906.65      927.45     902.37  4704940032   \n",
      "4     08-Jan-2009      905.73       909.73      910.00     896.81  4991549952   \n",
      "...           ...         ...          ...         ...        ...         ...   \n",
      "2259  22-Dec-2017     2684.22      2683.34     2685.35    2678.13  1383888512   \n",
      "2260  26-Dec-2017     2679.09      2680.50     2682.74    2677.96  1103808384   \n",
      "2261  27-Dec-2017     2682.10      2682.62     2685.64    2678.91  1149108352   \n",
      "2262  28-Dec-2017     2686.10      2687.54     2687.66    2682.69  1126089856   \n",
      "2263  29-Dec-2017     2689.15      2673.61     2692.12    2673.61  1332374016   \n",
      "\n",
      "      day_grow  day_diff  diff_high  diff_low  high_low  Open_diff  \\\n",
      "0            1     28.81      31.74      3.64     35.38       0.00   \n",
      "1            0     -1.72       7.46      9.64     17.10      26.18   \n",
      "2            1      3.53      12.68      3.89     16.57       2.00   \n",
      "3            0    -20.80       0.00     25.08     25.08      -3.72   \n",
      "4            1      4.00       4.27      8.92     13.19     -21.72   \n",
      "...        ...       ...        ...       ...       ...        ...   \n",
      "2259         0     -0.88       1.13      6.09      7.22       1.20   \n",
      "2260         1      1.41       3.65      1.13      4.78      -5.13   \n",
      "2261         1      0.52       3.54      3.19      6.73       3.01   \n",
      "2262         1      1.44       1.56      3.41      4.97       4.00   \n",
      "2263         0    -15.54       2.97     15.54     18.51       3.05   \n",
      "\n",
      "         Volume_M  \n",
      "0     4048.270080  \n",
      "1     5413.910016  \n",
      "2     5392.620032  \n",
      "3     4704.940032  \n",
      "4     4991.549952  \n",
      "...           ...  \n",
      "2259  1383.888512  \n",
      "2260  1103.808384  \n",
      "2261  1149.108352  \n",
      "2262  1126.089856  \n",
      "2263  1332.374016  \n",
      "\n",
      "[2264 rows x 13 columns]\n"
     ]
    }
   ],
   "source": [
    "def preProcess(inset):\n",
    "    outset = inset.copy()\n",
    "    outset.loc[:, 'day_grow'] = list(map(lambda x: 1 if x else 0, outset.loc[:,'Close Price'] >= outset.loc[:, 'Open Price']))\n",
    "    outset.loc[:, 'day_diff'] = outset.loc[:,'Close Price'] - outset.loc[:, 'Open Price']\n",
    "    outset.loc[:, 'diff_high'] = outset.loc[:, 'High Price'] - outset.loc[:, 'Open Price']\n",
    "    outset.loc[:, 'diff_low'] = outset.loc[:, 'Open Price'] - outset.loc[:, 'Low Price']\n",
    "    outset.loc[:, 'high_low'] = outset.loc[:, 'High Price'] - outset.loc[:, 'Low Price']\n",
    "    outset.loc[0, 'Open_diff'] = 0\n",
    "    outset.loc[1:, 'Open_diff'] = (outset.loc[:, 'Open Price'].values[1:] - outset.loc[:, 'Open Price'].values[0:len(outset)-1])\n",
    "    outset.loc[:, 'Volume_M'] = outset.loc[:, 'Volume'] / 1000000\n",
    "    return outset\n",
    "\n",
    "train = preProcess(train_raw)\n",
    "testset = preProcess(test_raw)\n",
    "print(train)"
   ]
  },
  {
   "cell_type": "markdown",
   "metadata": {},
   "source": [
    "#### 決定model使用的input  columns\n",
    "> 每個model都有他們的use_cols  \n",
    ">> use_cols1, use_cols2, ...      \n",
    ">  \n",
    "> use_cols_global當作default值  "
   ]
  },
  {
   "cell_type": "code",
   "execution_count": 4,
   "metadata": {},
   "outputs": [],
   "source": [
    "use_cols_global = ['diff_high', 'diff_low', 'Open_diff']"
   ]
  },
  {
   "cell_type": "markdown",
   "metadata": {},
   "source": [
    "## Logistic Regression\n",
    "\n",
    "一開始用日期以外的所有raw data輸入，準確度大約0.5，所有的g(x)都是1，吐血  \n",
    "改用diff_high跟diff_low到了82.9%  \n",
    "但是加入了Open_diff之後準確度下降了所以拿掉"
   ]
  },
  {
   "cell_type": "code",
   "execution_count": 5,
   "metadata": {},
   "outputs": [
    {
     "name": "stdout",
     "output_type": "stream",
     "text": [
      "0.8293650793650794\n"
     ]
    }
   ],
   "source": [
    "model1 = LogisticRegression(random_state=9487, max_iter=800)\n",
    "\n",
    "# global\n",
    "use_cols1 = use_cols_global\n",
    "\n",
    "# Open, High, Low, Vol\n",
    "# use_cols1 = ['Open Price', 'High Price', 'Low Price', 'Volume']\n",
    "\n",
    "# diff_high, diff_low\n",
    "use_cols1 = ['diff_high', 'diff_low']\n",
    "\n",
    "# diff_high, diff_low, high_low\n",
    "# use_cols1 = ['diff_high', 'diff_low', 'high_low']\n",
    "\n",
    "model1 = model1.fit(train.loc[:, use_cols1], train.loc[:, 'day_grow'])\n",
    "test_ans1 = model1.predict(testset.loc[:, use_cols1])\n",
    "\n",
    "test_acc1 = sum(test_ans1 == testset.loc[:,'day_grow'])/len(testset)\n",
    "print(test_acc1)"
   ]
  },
  {
   "cell_type": "markdown",
   "metadata": {},
   "source": [
    "## Neural Network Classifier\n",
    "\n",
    "model2:  \n",
    "> hidden layers: 10, 8, 4, 2  \n",
    "> input columns: default: diff_high, diff_low, Open_diff  \n",
    "\n",
    "把learing rate從default的0.001提高到0.003之後準確度上升了一點  \n",
    "現在是83.33%"
   ]
  },
  {
   "cell_type": "code",
   "execution_count": 6,
   "metadata": {},
   "outputs": [
    {
     "name": "stdout",
     "output_type": "stream",
     "text": [
      "0.8333333333333334\n"
     ]
    }
   ],
   "source": [
    "#model2 = MLPClassifier(hidden_layer_sizes=(10,8,4,2), batch_size=30, learning_rate_init=0.001, max_iter=200, shuffle=True, random_state=9487)\n",
    "model2 = MLPClassifier(hidden_layer_sizes=(10,8,4,2), batch_size=30, learning_rate_init=0.003, max_iter=200, shuffle=True, random_state=9487)\n",
    "\n",
    "# global\n",
    "use_cols2 = use_cols_global\n",
    "\n",
    "# Open, diff_high, diff_low, Volume\n",
    "# use_cols2 = ['Open Price', 'diff_high', 'diff_low']\n",
    "\n",
    "model2 = model2.fit(train.loc[:, use_cols2], train.loc[:, 'day_grow'])\n",
    "test_ans2 = model2.predict(testset.loc[:, use_cols2])\n",
    "\n",
    "test_acc2 = sum(test_ans2 == testset.loc[:, 'day_grow'])/len(testset)\n",
    "print(test_acc2)"
   ]
  },
  {
   "cell_type": "markdown",
   "metadata": {},
   "source": [
    "model2_1:  \n",
    "  \n",
    "hidden layer: (10,8,4,2) --> (6,6,6,6,6,6,6)  \n",
    "accuracy: no change :("
   ]
  },
  {
   "cell_type": "code",
   "execution_count": 7,
   "metadata": {},
   "outputs": [
    {
     "name": "stdout",
     "output_type": "stream",
     "text": [
      "0.8333333333333334\n"
     ]
    }
   ],
   "source": [
    "#model2_1 = MLPClassifier(hidden_layer_sizes=(8,4,4,4,3,2), batch_size=30, learning_rate_init=0.003, max_iter=200, shuffle=True, random_state=9487)\n",
    "model2_1 = MLPClassifier(hidden_layer_sizes=(6,6,6,6,6,6,6), batch_size=30, learning_rate_init=0.003, max_iter=200, shuffle=True, random_state=9487)\n",
    "\n",
    "# global\n",
    "use_cols2_1 = use_cols_global\n",
    "\n",
    "# Open, diff_high, diff_low, Volume\n",
    "# use_cols2_1 = ['Open Price', 'diff_high', 'diff_low', 'Volume']\n",
    "\n",
    "model2_1 = model2_1.fit(train.loc[:, use_cols2_1], train.loc[:, 'day_grow'])\n",
    "test_ans2_1 = model2_1.predict(testset.loc[:, use_cols2_1])\n",
    "\n",
    "test_acc2_1 = sum(test_ans2_1 == testset.loc[:, 'day_grow'])/len(testset)\n",
    "print(test_acc2_1)"
   ]
  },
  {
   "cell_type": "markdown",
   "metadata": {},
   "source": [
    "## Naive Bayes\n",
    "\n",
    "model3:  \n",
    "> Gaussian naive bayes  \n",
    "> input columns: default: diff_high, diff_low, Open_diff  \n",
    "> acc: 82.9365%  \n"
   ]
  },
  {
   "cell_type": "code",
   "execution_count": 8,
   "metadata": {},
   "outputs": [
    {
     "name": "stdout",
     "output_type": "stream",
     "text": [
      "0.8293650793650794\n"
     ]
    }
   ],
   "source": [
    "model3 = GaussianNB()\n",
    "\n",
    "# global\n",
    "use_cols3 = use_cols_global\n",
    "\n",
    "# Open, diff_high, diff_low, Volume\n",
    "# use_cols3 = ['Open Price', 'diff_high', 'diff_low' 'Volume']\n",
    "\n",
    "# originals\n",
    "#use_cols3 = ['Open Price', 'High Price', 'Low Price', 'Volume']\n",
    "\n",
    "model3 = model3.fit(train.loc[:, use_cols3], train.loc[:, 'day_grow'])\n",
    "test_ans3 = model3.predict(testset.loc[:, use_cols3])\n",
    "\n",
    "test_acc3 = sum(test_ans3 == testset.loc[:, 'day_grow'])/len(testset)\n",
    "print(test_acc3)"
   ]
  },
  {
   "cell_type": "markdown",
   "metadata": {},
   "source": [
    "## Neural Network Regressor\n",
    "\n",
    "想說不是以1跟0為target, 而是數值會不會比較準  \n",
    "\n",
    "model4:  \n",
    "> input columns: diff_high, diff_low\n",
    ">> 因為default的準度比較低, 所以拿掉了Open_diff  \n",
    ">\n",
    "> acc: 83.73%"
   ]
  },
  {
   "cell_type": "code",
   "execution_count": 9,
   "metadata": {},
   "outputs": [
    {
     "name": "stdout",
     "output_type": "stream",
     "text": [
      "0.8373015873015873\n"
     ]
    }
   ],
   "source": [
    "model4 = MLPRegressor(hidden_layer_sizes=(10,8,4,2), batch_size=30, learning_rate_init=0.003, max_iter=500, shuffle=True, random_state=9487)\n",
    "\n",
    "# global\n",
    "use_cols4 = use_cols_global\n",
    "\n",
    "# Open, diff_high, diff_low, Volume\n",
    "# use_cols4 = ['Open Price', 'diff_high', 'diff_low']\n",
    "\n",
    "# diff_high, diff_low\n",
    "use_cols4 = ['diff_high', 'diff_low']\n",
    "\n",
    "model4 = model4.fit(train.loc[:, use_cols4], train.loc[:, 'day_diff'])\n",
    "test_ans4 = model4.predict(testset.loc[:, use_cols4])\n",
    "test_ans4 = list(map(lambda x: 1 if x>=0 else 0 , test_ans4))\n",
    "\n",
    "test_acc4 = sum(test_ans4 == testset.loc[:, 'day_grow'])/len(testset)\n",
    "print(test_acc4)"
   ]
  },
  {
   "cell_type": "markdown",
   "metadata": {},
   "source": [
    "model4_1:\n",
    "> hidden layer size: (10,8,4,2) --> (6,6,6,6,6,6,6)  \n",
    "> use_cols: default: diff_high, diff_low, Open_diff  \n",
    "> initial learning rate: 0.003 --> 0.005  \n",
    "> acc: 83.73% --> 84.52%  \n",
    "\n",
    "提升learning rate後acc上升了  \n",
    "應該就湊巧給我碰到跟random_state=9487相性好一點的地方"
   ]
  },
  {
   "cell_type": "code",
   "execution_count": 10,
   "metadata": {},
   "outputs": [
    {
     "name": "stdout",
     "output_type": "stream",
     "text": [
      "0.8452380952380952\n"
     ]
    }
   ],
   "source": [
    "model4_1 = MLPRegressor(hidden_layer_sizes=(6,6,6,6,6,6,6), batch_size=30, learning_rate_init=0.005, max_iter=500, shuffle=True, random_state=9487)\n",
    "\n",
    "# global\n",
    "use_cols4_1 = use_cols_global\n",
    "\n",
    "# Open, diff_high, diff_low, Volume\n",
    "# use_cols4_1 = ['Open Price', 'diff_high', 'diff_low']\n",
    "\n",
    "# diff_high, diff_low\n",
    "# use_cols4_1 = ['diff_high', 'diff_low']\n",
    "\n",
    "model4_1 = model4_1.fit(train.loc[:, use_cols4_1], train.loc[:, 'day_diff'])\n",
    "test_ans4_1 = model4_1.predict(testset.loc[:, use_cols4_1])\n",
    "test_ans4_1 = list(map(lambda x: 1 if x>=0 else 0 , test_ans4_1))\n",
    "\n",
    "test_acc4_1 = sum(test_ans4_1 == testset.loc[:, 'day_grow'])/len(testset)\n",
    "print(test_acc4_1)"
   ]
  },
  {
   "cell_type": "markdown",
   "metadata": {},
   "source": [
    "# 結論\n",
    "\n",
    "結果還是Neural Network最準...  \n",
    "柔後Regression比Classification準  \n",
    "就準一點, 可能只在這個dataset上比較好  \n",
    "換個dataset可能就不是這樣了"
   ]
  }
 ],
 "metadata": {
  "kernelspec": {
   "display_name": "Python 3",
   "language": "python",
   "name": "python3"
  },
  "language_info": {
   "codemirror_mode": {
    "name": "ipython",
    "version": 3
   },
   "file_extension": ".py",
   "mimetype": "text/x-python",
   "name": "python",
   "nbconvert_exporter": "python",
   "pygments_lexer": "ipython3",
   "version": "3.7.4"
  }
 },
 "nbformat": 4,
 "nbformat_minor": 4
}
